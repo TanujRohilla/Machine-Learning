{
 "cells": [
  {
   "cell_type": "markdown",
   "metadata": {},
   "source": [
    "# OR Gate Perceptron Using Pandas Library"
   ]
  },
  {
   "cell_type": "code",
   "execution_count": 3,
   "metadata": {},
   "outputs": [
    {
     "name": "stdout",
     "output_type": "stream",
     "text": [
      "Output: 0\n"
     ]
    },
    {
     "name": "stderr",
     "output_type": "stream",
     "text": [
      "/home/tanuj/anaconda3/lib/python3.6/site-packages/sklearn/linear_model/stochastic_gradient.py:128: FutureWarning: max_iter and tol parameters have been added in <class 'sklearn.linear_model.perceptron.Perceptron'> in 0.19. If both are left unset, they default to max_iter=5 and tol=None. If tol is not None, max_iter defaults to max_iter=1000. From 0.21, default max_iter will be 1000, and default tol will be 1e-3.\n",
      "  \"and default tol will be 1e-3.\" % type(self), FutureWarning)\n"
     ]
    }
   ],
   "source": [
    "import numpy as np\n",
    "import pandas as pd\n",
    "import sklearn\n",
    "from sklearn.linear_model import Perceptron\n",
    "x = np.array([ [0, 0], [0, 1], [1, 0], [1, 1] ])\n",
    "y = np.array([0, 1, 1, 1])\n",
    "model = Perceptron()\n",
    "model.fit(x, y)\n",
    "print('Output: %d' % int(model.predict([[0, 0]])))"
   ]
  },
  {
   "cell_type": "markdown",
   "metadata": {},
   "source": [
    "# AND Gate Perceptron Using Pandas Library"
   ]
  },
  {
   "cell_type": "code",
   "execution_count": 4,
   "metadata": {},
   "outputs": [
    {
     "name": "stdout",
     "output_type": "stream",
     "text": [
      "Output: 0\n"
     ]
    },
    {
     "name": "stderr",
     "output_type": "stream",
     "text": [
      "/home/tanuj/anaconda3/lib/python3.6/site-packages/sklearn/linear_model/stochastic_gradient.py:128: FutureWarning: max_iter and tol parameters have been added in <class 'sklearn.linear_model.perceptron.Perceptron'> in 0.19. If both are left unset, they default to max_iter=5 and tol=None. If tol is not None, max_iter defaults to max_iter=1000. From 0.21, default max_iter will be 1000, and default tol will be 1e-3.\n",
      "  \"and default tol will be 1e-3.\" % type(self), FutureWarning)\n"
     ]
    }
   ],
   "source": [
    "import numpy as np\n",
    "import pandas as pd\n",
    "import sklearn\n",
    "from sklearn.linear_model import Perceptron\n",
    "x = np.array([ [0, 0], [0, 1], [1, 0], [1, 1] ])\n",
    "y = np.array([0, 0, 0, 1])\n",
    "model = Perceptron()\n",
    "model.fit(x, y)\n",
    "print('Output: %d' % int(model.predict([[0, 0]])))"
   ]
  },
  {
   "cell_type": "markdown",
   "metadata": {},
   "source": [
    "# Defining user defined Perceptron class"
   ]
  },
  {
   "cell_type": "code",
   "execution_count": 5,
   "metadata": {
    "collapsed": true
   },
   "outputs": [],
   "source": [
    "from matplotlib import pyplot as plt\n",
    "%matplotlib inline\n",
    "\n",
    "import numpy as np\n",
    "\n",
    "class Perceptron(object):\n",
    "\n",
    "    def __init__(self, no_of_inputs, n=100, learning_rate=0.05):\n",
    "        '''\n",
    "        Objective: To initialize data memebers\n",
    "        Input Parameters: s\n",
    "            self - object of type Perceptron\n",
    "            no_of_inputs, epochs, learning_rate - int\n",
    "        Return Value: None\n",
    "        '''\n",
    "        self.epochs = n\n",
    "        self.learning_rate = learning_rate\n",
    "        self.weights = 0.05 * np.random.randn(no_of_inputs + 1)# weights corr to num_inputs + 1 for bias \n",
    "        print(\"Initial values of weights\",self.weights)\n",
    "    def predict(self, inputs):\n",
    "        '''\n",
    "        Objective: To predict the output\n",
    "        Input Parameters: \n",
    "            self - object of type Perceptron\n",
    "            inputs - numpy array\n",
    "        Return Value: Binary\n",
    "        '''\n",
    "        summation = np.dot(self.weights[1:].T, inputs) + self.weights[0]\n",
    "        if summation > 0:\n",
    "          activation = 1\n",
    "        else:\n",
    "          activation = 0            \n",
    "        return activation\n",
    "\n",
    "    def train(self, training_inputs, labels):\n",
    "        '''\n",
    "        Objective: To train the model so as to tune weights\n",
    "        Input Parameters:  \n",
    "                self - object of type Perceptron\n",
    "                training_inputs, labels - np array\n",
    "        Return Value: None\n",
    "        '''\n",
    "        for _ in range(self.epochs):\n",
    "            deltaWeights = np.array([0,0]).astype('float64')\n",
    "            deltaBias = 0.0\n",
    "            nInstances = training_inputs.shape[0]\n",
    "            for inputs, label in zip(training_inputs, labels):\n",
    "                prediction = self.predict(inputs)\n",
    "                deltaWeights += self.learning_rate * (label - prediction) * inputs\n",
    "                deltaBias += self.learning_rate * (label - prediction)\n",
    "            self.weights[1:] += (1/nInstances)*deltaWeights\n",
    "            self.weights[0] += (1/nInstances)*deltaBias\n",
    "            \n",
    "            \n",
    "            \n",
    "            \n",
    "        b, w1, w2 = self.weights[0], self.weights[1], self.weights[2]\n",
    "        x = np.array([i for i in range(-1,3)])\n",
    "        y = (-1)*(b+w1*x)/w2\n",
    "        plt.plot(x, y)\n",
    "\n",
    "        \n",
    "                \n"
   ]
  },
  {
   "cell_type": "code",
   "execution_count": 6,
   "metadata": {},
   "outputs": [
    {
     "name": "stdout",
     "output_type": "stream",
     "text": [
      "[0 0] 0\n",
      "[0 1] 0\n",
      "[1 0] 0\n",
      "[1 1] 1\n"
     ]
    }
   ],
   "source": [
    "training_inputs = np.array([ [0, 0], [0, 1], [1, 0], [1, 1] ])\n",
    "labels = np.array([0, 0, 0, 1])\n",
    "for i,j in zip(training_inputs, labels):\n",
    "    print(i, j)\n",
    "    "
   ]
  },
  {
   "cell_type": "code",
   "execution_count": 7,
   "metadata": {},
   "outputs": [
    {
     "data": {
      "text/plain": [
       "array([4, 1])"
      ]
     },
     "execution_count": 7,
     "metadata": {},
     "output_type": "execute_result"
    }
   ],
   "source": [
    "a = np.array([[1, 0], [0, 1]])\n",
    "b = np.array([4, 1])\n",
    "np.dot(a, b)"
   ]
  },
  {
   "cell_type": "markdown",
   "metadata": {},
   "source": [
    "# AND gate Perceptron"
   ]
  },
  {
   "cell_type": "code",
   "execution_count": 8,
   "metadata": {},
   "outputs": [
    {
     "name": "stdout",
     "output_type": "stream",
     "text": [
      "Initial values of weights [ 0.10949562 -0.01594246  0.00996932]\n",
      "Output 0\n"
     ]
    },
    {
     "data": {
      "image/png": "[encoded data removed]",
      "text/plain": [
       "<matplotlib.figure.Figure at 0x7f8fe562b5f8>"
      ]
     },
     "metadata": {},
     "output_type": "display_data"
    }
   ],
   "source": [
    "training_inputs = np.array([ [0, 0], [0, 1], [1, 0], [1, 1] ])\n",
    "labels = np.array([0, 0, 0, 1])\n",
    "plt.scatter([i for i, j in training_inputs], [j for i, j in training_inputs])\n",
    "\n",
    "perceptron = Perceptron(2)\n",
    "perceptron.train(training_inputs, labels)\n",
    "result = perceptron.predict(np.array([0, 1])) \n",
    "print(\"Output\",result)\n",
    "\n",
    "plt.show()\n"
   ]
  },
  {
   "cell_type": "markdown",
   "metadata": {},
   "source": [
    "# OR gate Perceptron"
   ]
  },
  {
   "cell_type": "code",
   "execution_count": 9,
   "metadata": {},
   "outputs": [
    {
     "name": "stdout",
     "output_type": "stream",
     "text": [
      "Initial values of weights [-0.01705992  0.04626306 -0.02897459]\n",
      "Output 1\n"
     ]
    },
    {
     "data": {
      "image/png": "[encoded data removed]",
      "text/plain": [
       "<matplotlib.figure.Figure at 0x7f8fe7332a58>"
      ]
     },
     "metadata": {},
     "output_type": "display_data"
    }
   ],
   "source": [
    "training_inputs = np.array([ [0, 0], [0, 1], [1, 0], [1, 1] ])\n",
    "labels = np.array([0, 1, 1, 1])\n",
    "plt.scatter([i for i, j in training_inputs], [j for i, j in training_inputs])\n",
    "\n",
    "perceptron = Perceptron(2)\n",
    "perceptron.train(training_inputs, labels)\n",
    "result = perceptron.predict(np.array([0, 1])) \n",
    "print(\"Output\",result)\n",
    "\n",
    "plt.show()"
   ]
  },
  {
   "cell_type": "code",
   "execution_count": null,
   "metadata": {
    "collapsed": true
   },
   "outputs": [],
   "source": []
  },
  {
   "cell_type": "code",
   "execution_count": null,
   "metadata": {
    "collapsed": true
   },
   "outputs": [],
   "source": []
  }
 ],
 "metadata": {
  "kernelspec": {
   "display_name": "Python 3",
   "language": "python",
   "name": "python3"
  },
  "language_info": {
   "codemirror_mode": {
    "name": "ipython",
    "version": 3
   },
   "file_extension": ".py",
   "mimetype": "text/x-python",
   "name": "python",
   "nbconvert_exporter": "python",
   "pygments_lexer": "ipython3",
   "version": "3.6.3"
  }
 },
 "nbformat": 4,
 "nbformat_minor": 2
}
