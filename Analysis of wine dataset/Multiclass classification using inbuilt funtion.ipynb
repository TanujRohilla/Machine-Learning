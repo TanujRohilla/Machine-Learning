{
 "cells": [
  {
   "cell_type": "code",
   "execution_count": 1,
   "metadata": {
    "collapsed": true
   },
   "outputs": [],
   "source": [
    "import numpy as np\n",
    "\n",
    "import sklearn\n",
    "from sklearn.datasets import load_wine\n",
    "import sklearn.linear_model\n",
    "from sklearn.metrics import accuracy_score\n",
    "\n",
    "np.random.seed(1) # set a seed so that the results are consistent"
   ]
  },
  {
   "cell_type": "code",
   "execution_count": 2,
   "metadata": {},
   "outputs": [
    {
     "name": "stdout",
     "output_type": "stream",
     "text": [
      "(178, 13)\n",
      "(178,)\n"
     ]
    }
   ],
   "source": [
    "import copy\n",
    "dataset = load_wine()\n",
    "X = dataset.data\n",
    "Y = dataset.target\n",
    "\n",
    "# Generate random permutation of the dataset\n",
    "idx = np.random.permutation(X.shape[0])\n",
    "X, Y = X[idx], Y[idx]\n",
    "#Normalize the dataset\n",
    "\n",
    "original_Y = np.copy(Y)\n",
    "X = (X-np.mean(X, axis=1, keepdims = True))/(np.max(X, axis=1, keepdims = True)-np.min(X, axis = 1, keepdims = True))\n",
    "print(X.shape)\n",
    "print(Y.shape)"
   ]
  },
  {
   "cell_type": "code",
   "execution_count": 3,
   "metadata": {},
   "outputs": [
    {
     "name": "stdout",
     "output_type": "stream",
     "text": [
      "66.8539325843 %\n",
      "60.1123595506 %\n",
      "73.0337078652 %\n"
     ]
    }
   ],
   "source": [
    "from sklearn.linear_model import LogisticRegression\n",
    "\n",
    "#Classes 0, 1 & 2\n",
    "Y = np.copy(original_Y)\n",
    "#Setting Class 0 to 0 and Class 1,2 to 1\n",
    "Y[Y != 0] = 1\n",
    "model1 = LogisticRegression().fit(X,Y)\n",
    "print((accuracy_score(Y,model1.predict(X))*100),\"%\")\n",
    "\n",
    "Y = np.copy(original_Y)\n",
    "#Setting Class 1 to 1 and Class 0,2 to 0\n",
    "Y[Y != 1] = 0\n",
    "model2 = LogisticRegression().fit(X,Y)\n",
    "print((accuracy_score(Y,model2.predict(X))*100),\"%\")\n",
    "\n",
    "Y = np.copy(original_Y)\n",
    "#Setting Class 2 to 1 and Class 0,1 to 0\n",
    "Y[Y != 2] = 0\n",
    "Y[Y == 2] = 1\n",
    "model3 = LogisticRegression().fit(X,Y)\n",
    "print((accuracy_score(Y,model3.predict(X))*100),\"%\")\n"
   ]
  },
  {
   "cell_type": "code",
   "execution_count": null,
   "metadata": {},
   "outputs": [],
   "source": []
  },
  {
   "cell_type": "code",
   "execution_count": null,
   "metadata": {
    "collapsed": true
   },
   "outputs": [],
   "source": []
  }
 ],
 "metadata": {
  "kernelspec": {
   "display_name": "Python 3",
   "language": "python",
   "name": "python3"
  },
  "language_info": {
   "codemirror_mode": {
    "name": "ipython",
    "version": 3
   },
   "file_extension": ".py",
   "mimetype": "text/x-python",
   "name": "python",
   "nbconvert_exporter": "python",
   "pygments_lexer": "ipython3",
   "version": "3.6.3"
  }
 },
 "nbformat": 4,
 "nbformat_minor": 2
}
